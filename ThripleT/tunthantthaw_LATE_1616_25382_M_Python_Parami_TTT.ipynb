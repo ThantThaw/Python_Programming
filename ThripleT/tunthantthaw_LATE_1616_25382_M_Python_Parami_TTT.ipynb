{
  "cells": [
    {
      "cell_type": "markdown",
      "metadata": {
        "id": "bBSbIZTtW7q4"
      },
      "source": [
        "1) Write a Python program to create a dictionary that count the frequency of words in the string given in Q1.txt. Find the most frequent occured word."
      ]
    },
    {
      "cell_type": "code",
      "execution_count": 11,
      "metadata": {
        "colab": {
          "base_uri": "https://localhost:8080/"
        },
        "id": "l6y53V9ZWzox",
        "outputId": "5ebfab01-1f42-4b07-d0b5-c260fa7240c8"
      },
      "outputs": [
        {
          "name": "stdout",
          "output_type": "stream",
          "text": [
            "Most Frequent = 'it'. Mode = 5.\n"
          ]
        }
      ],
      "source": [
        "with open('Q1.txt', 'r') as file:\n",
        "    text = file.read()\n",
        "\n",
        "import string\n",
        "translator = str.maketrans('', '', string.punctuation)\n",
        "words = text.lower().translate(translator).split()\n",
        "\n",
        "word_count = {}\n",
        "\n",
        "for word in words:\n",
        "    if word in word_count:\n",
        "        word_count[word] += 1\n",
        "    else:\n",
        "        word_count[word] = 1\n",
        "\n",
        "most_frequent = max(word_count, key=word_count.get)\n",
        "frequency = word_count[most_frequent]\n",
        "\n",
        "print(\"Most Frequent = '{}'. Mode = {}.\".format(most_frequent, frequency))\n"
      ]
    },
    {
      "cell_type": "markdown",
      "metadata": {
        "id": "aQP7q021Xr9W"
      },
      "source": [
        "2) Write a Python program to read the name from Q2.txt and create email using domain 'parami.edu.mm' and save the results as dictionary :\n",
        "{'name': 'name@parami.edu.mm'}.\n",
        "Please take note that your email should not include space or any special characters and all charcters should be in lowercase."
      ]
    },
    {
      "cell_type": "code",
      "execution_count": 1,
      "metadata": {
        "colab": {
          "base_uri": "https://localhost:8080/"
        },
        "id": "2B2TGvQCXuR3",
        "outputId": "c1946277-6062-45ee-e253-f0c43e472e62"
      },
      "outputs": [
        {
          "data": {
            "text/plain": [
              "{'Deki': 'Deki@parami.edu.mm',\n",
              " 'Dorji': 'Dorji@parami.edu.mm',\n",
              " 'Gem': 'Gem@parami.edu.mm',\n",
              " 'Jigme': 'Jigme@parami.edu.mm',\n",
              " 'Kinley': 'Kinley@parami.edu.mm',\n",
              " 'Ngawang': 'Ngawang@parami.edu.mm',\n",
              " 'Roshan': 'Roshan@parami.edu.mm',\n",
              " 'Sonam': 'Sonam@parami.edu.mm',\n",
              " 'Tandin': 'Tandin@parami.edu.mm',\n",
              " 'Tashi': 'Tashi@parami.edu.mm',\n",
              " 'Tenday': 'Tenday@parami.edu.mm',\n",
              " 'Tshering': 'Tshering@parami.edu.mm',\n",
              " 'Ugyen': 'Ugyen@parami.edu.mm',\n",
              " 'Marmitt': 'Marmitt@parami.edu.mm'}"
            ]
          },
          "execution_count": 1,
          "metadata": {},
          "output_type": "execute_result"
        }
      ],
      "source": [
        "email_dict = {}\n",
        "\n",
        "with open('Q2.txt', 'r') as names:\n",
        "    header = names.readline()\n",
        "    namelist = names.readlines()\n",
        "\n",
        "    all_names = [line.split() for line in namelist]\n",
        "\n",
        "    for line in all_names[1:]:\n",
        "\n",
        "        name = line[0]\n",
        "        domain = 'parami.edu.mm'\n",
        "\n",
        "        email = '{}@{}'.format(name, domain)\n",
        "\n",
        "\n",
        "        email_dict[name] = email\n",
        "\n",
        "email_dict\n",
        "\n",
        "\n"
      ]
    },
    {
      "cell_type": "code",
      "execution_count": null,
      "metadata": {},
      "outputs": [],
      "source": []
    }
  ],
  "metadata": {
    "colab": {
      "provenance": []
    },
    "kernelspec": {
      "display_name": "Python 3",
      "name": "python3"
    },
    "language_info": {
      "codemirror_mode": {
        "name": "ipython",
        "version": 3
      },
      "file_extension": ".py",
      "mimetype": "text/x-python",
      "name": "python",
      "nbconvert_exporter": "python",
      "pygments_lexer": "ipython3",
      "version": "3.9.13"
    }
  },
  "nbformat": 4,
  "nbformat_minor": 0
}
