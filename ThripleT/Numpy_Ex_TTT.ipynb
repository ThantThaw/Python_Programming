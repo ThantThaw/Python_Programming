{
  "cells": [
    {
      "cell_type": "markdown",
      "metadata": {
        "id": "uofiizZmxDf9"
      },
      "source": [
        "# NumPy Exercises\n",
        "\n"
      ]
    },
    {
      "cell_type": "markdown",
      "metadata": {
        "id": "Oj8R0olQxDgH"
      },
      "source": [
        "#### Import NumPy as np"
      ]
    },
    {
      "cell_type": "code",
      "execution_count": null,
      "metadata": {
        "id": "YmVLNoCYxDgJ"
      },
      "outputs": [],
      "source": [
        "import numpy as np"
      ]
    },
    {
      "cell_type": "markdown",
      "metadata": {
        "id": "EvJEUInTxDgM"
      },
      "source": [
        "#### Create an array of 10 zeros"
      ]
    },
    {
      "cell_type": "code",
      "execution_count": 22,
      "metadata": {
        "colab": {
          "base_uri": "https://localhost:8080/"
        },
        "id": "zfsUfj48xDgN",
        "outputId": "dd86b038-3e4d-4c96-8e9f-3711df739652"
      },
      "outputs": [
        {
          "output_type": "execute_result",
          "data": {
            "text/plain": [
              "array([0, 0, 0, 0, 0, 0, 0, 0, 0, 0])"
            ]
          },
          "metadata": {},
          "execution_count": 22
        }
      ],
      "source": [
        "import numpy as np\n",
        "np.full(10, 0)"
      ]
    },
    {
      "cell_type": "markdown",
      "metadata": {
        "id": "f11bSLFgxDgN"
      },
      "source": [
        "Create an array of 10 fives\n",
        "\n"
      ]
    },
    {
      "cell_type": "code",
      "execution_count": 7,
      "metadata": {
        "colab": {
          "base_uri": "https://localhost:8080/"
        },
        "id": "C6WZfY8TxDgO",
        "outputId": "c7a5d3af-dcf9-4bca-cf16-b64b46634b2f"
      },
      "outputs": [
        {
          "output_type": "execute_result",
          "data": {
            "text/plain": [
              "array([5, 5, 5, 5, 5, 5, 5, 5, 5, 5])"
            ]
          },
          "metadata": {},
          "execution_count": 7
        }
      ],
      "source": [
        "import numpy as np\n",
        "np.full(10, 5)"
      ]
    },
    {
      "cell_type": "markdown",
      "metadata": {
        "id": "ldMGS1TXxDgP"
      },
      "source": [
        "#### Create an array of the integers from 10 to 50"
      ]
    },
    {
      "cell_type": "code",
      "execution_count": 5,
      "metadata": {
        "colab": {
          "base_uri": "https://localhost:8080/"
        },
        "id": "1ADFrkK4xDgP",
        "outputId": "71a1ed82-7277-4d01-86c3-93a1b588976a"
      },
      "outputs": [
        {
          "output_type": "execute_result",
          "data": {
            "text/plain": [
              "array([10, 11, 12, 13, 14, 15, 16, 17, 18, 19, 20, 21, 22, 23, 24, 25, 26,\n",
              "       27, 28, 29, 30, 31, 32, 33, 34, 35, 36, 37, 38, 39, 40, 41, 42, 43,\n",
              "       44, 45, 46, 47, 48, 49, 50])"
            ]
          },
          "metadata": {},
          "execution_count": 5
        }
      ],
      "source": [
        "import numpy as np\n",
        "np.arange(10,51)"
      ]
    },
    {
      "cell_type": "markdown",
      "metadata": {
        "id": "oM4SD0LexDgQ"
      },
      "source": [
        "#### Create an array of all the even integers from 10 to 50"
      ]
    },
    {
      "cell_type": "code",
      "execution_count": 6,
      "metadata": {
        "colab": {
          "base_uri": "https://localhost:8080/"
        },
        "id": "zEHtyEUaxDgR",
        "outputId": "d89bd348-1bfb-4115-fcdb-cee891ba463f"
      },
      "outputs": [
        {
          "output_type": "execute_result",
          "data": {
            "text/plain": [
              "array([10, 12, 14, 16, 18, 20, 22, 24, 26, 28, 30, 32, 34, 36, 38, 40, 42,\n",
              "       44, 46, 48, 50])"
            ]
          },
          "metadata": {},
          "execution_count": 6
        }
      ],
      "source": [
        "np. arange(10,51,2)"
      ]
    },
    {
      "cell_type": "markdown",
      "metadata": {
        "id": "6gFno8twxDgS"
      },
      "source": [
        "#### Create a 3x3 matrix with values ranging from 0 to 8"
      ]
    },
    {
      "cell_type": "code",
      "execution_count": 15,
      "metadata": {
        "colab": {
          "base_uri": "https://localhost:8080/"
        },
        "id": "rvSiyAiXxDgT",
        "outputId": "38498070-7dfb-4c6c-c44c-22bc59861ee6"
      },
      "outputs": [
        {
          "output_type": "execute_result",
          "data": {
            "text/plain": [
              "array([[0, 1, 2],\n",
              "       [3, 4, 5],\n",
              "       [6, 7, 8]])"
            ]
          },
          "metadata": {},
          "execution_count": 15
        }
      ],
      "source": [
        "np.arange(9).reshape((3, 3))"
      ]
    },
    {
      "cell_type": "markdown",
      "metadata": {
        "id": "I_acc3I3xDgT"
      },
      "source": [
        "#### Create a 3x3 identity matrix"
      ]
    },
    {
      "cell_type": "code",
      "execution_count": 17,
      "metadata": {
        "colab": {
          "base_uri": "https://localhost:8080/"
        },
        "id": "8RicnIxvxDgh",
        "outputId": "d5c3ce9b-173d-468d-fd95-4da5876b6fb2"
      },
      "outputs": [
        {
          "output_type": "execute_result",
          "data": {
            "text/plain": [
              "array([[0, 1, 2],\n",
              "       [3, 4, 5],\n",
              "       [6, 7, 8]])"
            ]
          },
          "metadata": {},
          "execution_count": 17
        }
      ],
      "source": [
        "np.arange(9).reshape((3, 3))"
      ]
    },
    {
      "cell_type": "markdown",
      "metadata": {
        "id": "FLUg2hV8xDgi"
      },
      "source": [
        "#### Use NumPy to generate a random number between 0 and 1"
      ]
    },
    {
      "cell_type": "code",
      "execution_count": 23,
      "metadata": {
        "colab": {
          "base_uri": "https://localhost:8080/"
        },
        "id": "C401JFPXxDgj",
        "outputId": "075cb8bf-ba6a-4062-e769-d072e5c73ab5"
      },
      "outputs": [
        {
          "output_type": "execute_result",
          "data": {
            "text/plain": [
              "array([[0.23754061]])"
            ]
          },
          "metadata": {},
          "execution_count": 23
        }
      ],
      "source": [
        "np.random.random((1,1))"
      ]
    },
    {
      "cell_type": "markdown",
      "metadata": {
        "id": "J90OngQJxDgj"
      },
      "source": [
        "#### Use NumPy to generate an array of 25 random numbers sampled from a standard normal distribution"
      ]
    },
    {
      "cell_type": "code",
      "execution_count": 19,
      "metadata": {
        "colab": {
          "base_uri": "https://localhost:8080/"
        },
        "id": "WswkZjKrxDgj",
        "outputId": "18552043-6ab4-4d07-d1e8-13871c39cdfd"
      },
      "outputs": [
        {
          "output_type": "execute_result",
          "data": {
            "text/plain": [
              "array([ 0.62870342,  1.19677838, -1.59222029,  0.10342863,  1.68093999,\n",
              "        0.68314853, -1.37466699,  1.08921379,  1.14569361, -1.5651847 ,\n",
              "        0.14234574,  1.4717529 , -0.5047758 ,  0.39507003, -1.0962591 ,\n",
              "        1.15694472,  0.33703363, -0.0967958 ,  0.89004556, -0.55229578,\n",
              "       -1.08699718,  0.22390917,  1.21225029, -0.77081067, -1.66403277])"
            ]
          },
          "metadata": {},
          "execution_count": 19
        }
      ],
      "source": [
        "np.random.randn(25)"
      ]
    },
    {
      "cell_type": "markdown",
      "metadata": {
        "id": "5pwUaGLSxDgk"
      },
      "source": [
        "#### Create an array of 20 linearly spaced points between 0 and 1:"
      ]
    },
    {
      "cell_type": "code",
      "execution_count": 21,
      "metadata": {
        "colab": {
          "base_uri": "https://localhost:8080/"
        },
        "id": "VWaPJZhyxDgk",
        "outputId": "87b109c8-44cc-4aff-e2ef-3bbee04a3d3b"
      },
      "outputs": [
        {
          "output_type": "execute_result",
          "data": {
            "text/plain": [
              "array([0.        , 0.05263158, 0.10526316, 0.15789474, 0.21052632,\n",
              "       0.26315789, 0.31578947, 0.36842105, 0.42105263, 0.47368421,\n",
              "       0.52631579, 0.57894737, 0.63157895, 0.68421053, 0.73684211,\n",
              "       0.78947368, 0.84210526, 0.89473684, 0.94736842, 1.        ])"
            ]
          },
          "metadata": {},
          "execution_count": 21
        }
      ],
      "source": [
        "np.linspace(0,1, 20)"
      ]
    },
    {
      "cell_type": "markdown",
      "metadata": {
        "id": "n7qqRzabxDgm"
      },
      "source": [
        "## Numpy Indexing and Selection\n",
        "\n",
        "Create the following 2D matrix."
      ]
    },
    {
      "cell_type": "markdown",
      "metadata": {
        "id": "wdWgzktgxDgn"
      },
      "source": [
        "[ 1,  2,  3,  4,  5]\n",
        "[ 6,  7,  8,  9, 10]\n",
        "[11, 12, 13, 14, 15]\n",
        "[16, 17, 18, 19, 20]\n",
        "[21, 22, 23, 24, 25]"
      ]
    },
    {
      "cell_type": "code",
      "execution_count": 30,
      "metadata": {
        "colab": {
          "base_uri": "https://localhost:8080/"
        },
        "id": "woj_SCnLxDgn",
        "outputId": "3429adb8-3bb7-4cba-a565-b723cfd2190d"
      },
      "outputs": [
        {
          "output_type": "stream",
          "name": "stdout",
          "text": [
            "Number of elements: 40\n"
          ]
        }
      ],
      "source": []
    },
    {
      "cell_type": "markdown",
      "metadata": {
        "id": "3dcYajINxDgo"
      },
      "source": [
        "#### Get the sum of all the values in matrix"
      ]
    },
    {
      "cell_type": "code",
      "execution_count": 31,
      "metadata": {
        "colab": {
          "base_uri": "https://localhost:8080/"
        },
        "id": "07U3F3jcxDgp",
        "outputId": "114507d4-bdcd-4fd5-aa15-56f0ed220e56"
      },
      "outputs": [
        {
          "output_type": "stream",
          "name": "stdout",
          "text": [
            "Average Score: 0.0\n",
            "Standard Deviation: 58.02298395176403\n"
          ]
        }
      ],
      "source": [
        "import numpy as np\n",
        "\n",
        "# Create a 1D array with values from -100 to 100\n",
        "array_values = np.arange(-100, 101)\n",
        "\n",
        "# Compute the average score\n",
        "average_score = np.mean(array_values)\n",
        "\n",
        "# Compute the standard deviation\n",
        "std_deviation = np.std(array_values)\n",
        "\n",
        "print(\"Average Score:\", average_score)\n",
        "print(\"Standard Deviation:\", std_deviation)\n"
      ]
    },
    {
      "cell_type": "markdown",
      "metadata": {
        "id": "E7Xb4LFlxDgp"
      },
      "source": [
        "#### Get the standard deviation of the values in matrix"
      ]
    },
    {
      "cell_type": "code",
      "execution_count": null,
      "metadata": {
        "id": "OBvrC-X2xDgr"
      },
      "outputs": [],
      "source": []
    },
    {
      "cell_type": "markdown",
      "metadata": {
        "id": "cyKpaTvLxDgs"
      },
      "source": [
        "#### Get the sum of all the columns in matrix"
      ]
    },
    {
      "cell_type": "code",
      "execution_count": null,
      "metadata": {
        "id": "j0o2HvsaxDgt"
      },
      "outputs": [],
      "source": []
    }
  ],
  "metadata": {
    "kernelspec": {
      "display_name": "Python 3 (ipykernel)",
      "language": "python",
      "name": "python3"
    },
    "language_info": {
      "codemirror_mode": {
        "name": "ipython",
        "version": 3
      },
      "file_extension": ".py",
      "mimetype": "text/x-python",
      "name": "python",
      "nbconvert_exporter": "python",
      "pygments_lexer": "ipython3",
      "version": "3.8.8"
    },
    "colab": {
      "provenance": []
    }
  },
  "nbformat": 4,
  "nbformat_minor": 0
}