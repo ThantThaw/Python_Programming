{
 "cells": [
  {
   "cell_type": "markdown",
   "metadata": {},
   "source": [
    "Q1). Write a lambda function that takes an integer 'year' and returns 'age'."
   ]
  },
  {
   "cell_type": "code",
   "execution_count": 3,
   "metadata": {},
   "outputs": [
    {
     "data": {
      "text/plain": [
       "23"
      ]
     },
     "execution_count": 3,
     "metadata": {},
     "output_type": "execute_result"
    }
   ],
   "source": [
    "from datetime import datetime\n",
    "\n",
    "current_year = datetime.now().year\n",
    "calculate_age = lambda year: current_year - year\n",
    "calculate_age(2000)"
   ]
  },
  {
   "cell_type": "markdown",
   "metadata": {},
   "source": [
    "Q2) Write a lambda function that takes a float \"cost\" and returns a float \"price\" by adding 10% to the cost."
   ]
  },
  {
   "cell_type": "code",
   "execution_count": 2,
   "metadata": {},
   "outputs": [
    {
     "data": {
      "text/plain": [
       "61.6"
      ]
     },
     "execution_count": 2,
     "metadata": {},
     "output_type": "execute_result"
    }
   ],
   "source": [
    "calculate_pirce = lambda cost: cost + cost*0.10\n",
    "\n",
    "calculate_pirce(56)"
   ]
  },
  {
   "cell_type": "markdown",
   "metadata": {},
   "source": [
    "Q3) For the given name list : names = ['Richard', 'Karam', 'Karpo', 'Sonam', 'Ugyen']\n",
    "\n",
    "Write a python program that converts each name into email address. The domain is given as gmail."
   ]
  },
  {
   "cell_type": "code",
   "execution_count": 5,
   "metadata": {},
   "outputs": [
    {
     "data": {
      "text/plain": [
       "['richard@gmail.com',\n",
       " 'karam@gmail.com',\n",
       " 'karpo@gmail.com',\n",
       " 'sonam@gmail.com',\n",
       " 'ugyen@gmail.com']"
      ]
     },
     "execution_count": 5,
     "metadata": {},
     "output_type": "execute_result"
    }
   ],
   "source": [
    "names = ['Richard', 'Karam', 'Karpo', 'Sonam', 'Ugyen']\n",
    "create_email = lambda name: name.lower()+'@gmail.com'\n",
    "emails = [*map(create_email, names)]\n",
    "emails\n"
   ]
  },
  {
   "cell_type": "markdown",
   "metadata": {},
   "source": [
    "Q4) Write a lambda function that takes two strings 'name' , 'domain' and returns an email address (string)."
   ]
  },
  {
   "cell_type": "code",
   "execution_count": 6,
   "metadata": {},
   "outputs": [
    {
     "data": {
      "text/plain": [
       "'myo@drmyothida.com'"
      ]
     },
     "execution_count": 6,
     "metadata": {},
     "output_type": "execute_result"
    }
   ],
   "source": [
    "create_custom_email = lambda name, domain: name.lower()+'@'+domain\n",
    "create_custom_email('myo', 'drmyothida.com')"
   ]
  },
  {
   "cell_type": "markdown",
   "metadata": {},
   "source": [
    "Q5) old_list = [2, 4, 6, 7, 9]\n",
    "\n",
    "write a for loop to square each element of the given old_list. "
   ]
  },
  {
   "cell_type": "code",
   "execution_count": 10,
   "metadata": {},
   "outputs": [
    {
     "name": "stdout",
     "output_type": "stream",
     "text": [
      "[4, 16, 36, 49, 81] [4, 16, 36, 49, 81]\n"
     ]
    }
   ],
   "source": [
    "# list comprehension\n",
    "old_list = [2, 4, 6, 7, 9]\n",
    "new_list1 = [item**2 for item in old_list] \n",
    "\n",
    "#2nd method\n",
    "new_list2 = []\n",
    "for item in old_list:\n",
    "    new_list2.append(item**2)\n",
    "\n",
    "print(new_list1, new_list2)"
   ]
  }
 ],
 "metadata": {
  "kernelspec": {
   "display_name": "base",
   "language": "python",
   "name": "python3"
  },
  "language_info": {
   "codemirror_mode": {
    "name": "ipython",
    "version": 3
   },
   "file_extension": ".py",
   "mimetype": "text/x-python",
   "name": "python",
   "nbconvert_exporter": "python",
   "pygments_lexer": "ipython3",
   "version": "3.9.13"
  }
 },
 "nbformat": 4,
 "nbformat_minor": 2
}
